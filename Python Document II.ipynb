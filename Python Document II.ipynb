{
 "cells": [
  {
   "cell_type": "markdown",
   "metadata": {},
   "source": [
    "# Functions, Scoping, Data Collections 1 & List Comprehensions"
   ]
  },
  {
   "cell_type": "markdown",
   "metadata": {},
   "source": [
    "## Tasks Today:\n",
    "\n",
    "<i>Monday Additions (or, and ... if statements)</i>\n",
    "\n",
    "1) String Manipulation <br>\n",
    " &nbsp;&nbsp;&nbsp;&nbsp; a) strip() <br>\n",
    " &nbsp;&nbsp;&nbsp;&nbsp; b) title() <br>\n",
    "2) Working With Lists <br>\n",
    " &nbsp;&nbsp;&nbsp;&nbsp; a) min() <br>\n",
    " &nbsp;&nbsp;&nbsp;&nbsp; b) max() <br>\n",
    " &nbsp;&nbsp;&nbsp;&nbsp; c) sum() <br>\n",
    " &nbsp;&nbsp;&nbsp;&nbsp; d) sort() <br>\n",
    " &nbsp;&nbsp;&nbsp;&nbsp; e) Copying a List <br>\n",
    " &nbsp;&nbsp;&nbsp;&nbsp; f) 'in' keyword <br>\n",
    " &nbsp;&nbsp;&nbsp;&nbsp; g) 'not in' keyword <br>\n",
    " &nbsp;&nbsp;&nbsp;&nbsp; i) Checking an Empty List <br>\n",
    " &nbsp;&nbsp;&nbsp;&nbsp; j) Removing Instances with a Loop <br>\n",
    "3) List Comprehensions <br>\n",
    "4) Tuples <br>\n",
    " &nbsp;&nbsp;&nbsp;&nbsp; a) sorted() <br>\n",
    "5) Functions <br>\n",
    " &nbsp;&nbsp;&nbsp;&nbsp; a) User-Defined vs. Built-In Functions <br>\n",
    " &nbsp;&nbsp;&nbsp;&nbsp; b) Accepting Parameters <br>\n",
    " &nbsp;&nbsp;&nbsp;&nbsp; c) Default Parameters <br>\n",
    " &nbsp;&nbsp;&nbsp;&nbsp; d) Making an Argument Optional <br>\n",
    " &nbsp;&nbsp;&nbsp;&nbsp; e) Keyword Arguments <br>\n",
    " &nbsp;&nbsp;&nbsp;&nbsp; f) Returning Values <br>\n",
    " &nbsp;&nbsp;&nbsp;&nbsp; g) *args <br>\n",
    " &nbsp;&nbsp;&nbsp;&nbsp; h) Docstring <br>\n",
    " &nbsp;&nbsp;&nbsp;&nbsp; i) Using a User Function in a Loop <br>\n",
    "6) Scope"
   ]
  },
  {
   "cell_type": "markdown",
   "metadata": {},
   "source": [
    "### String Manipulation"
   ]
  },
  {
   "cell_type": "markdown",
   "metadata": {},
   "source": [
    "##### .lstrip()"
   ]
  },
  {
   "cell_type": "code",
   "execution_count": 4,
   "metadata": {},
   "outputs": [
    {
     "name": "stdout",
     "output_type": "stream",
     "text": [
      "Augustine Tiscareno\n"
     ]
    }
   ],
   "source": [
    "# string.lstrip()\n",
    "name = '         sAugustine Tiscareno'\n",
    "new_name = name.lstrip(\" \" \"s\")\n",
    "print(new_name)\n"
   ]
  },
  {
   "cell_type": "markdown",
   "metadata": {},
   "source": [
    "##### .rstrip()"
   ]
  },
  {
   "cell_type": "code",
   "execution_count": 5,
   "metadata": {},
   "outputs": [
    {
     "name": "stdout",
     "output_type": "stream",
     "text": [
      "Johnny Bravo\n"
     ]
    }
   ],
   "source": [
    "# string.rstrip()\n",
    "name = 'Johnny Bravod     '\n",
    "new_name = name.rstrip(' ' 'd')\n",
    "print(new_name)"
   ]
  },
  {
   "cell_type": "markdown",
   "metadata": {},
   "source": [
    "##### .strip()"
   ]
  },
  {
   "cell_type": "code",
   "execution_count": 7,
   "metadata": {},
   "outputs": [
    {
     "name": "stdout",
     "output_type": "stream",
     "text": [
      "Mark Fischbac\n"
     ]
    }
   ],
   "source": [
    "# string.strip()\n",
    "name = '     Mark Fischbac   sodl'\n",
    "\n",
    "# fast way!\n",
    "# new_name = name.strip(' ' 'sodl')\n",
    "\n",
    "# Long way works too...\n",
    "new_name = name.strip(' ' 's' 'o' 'd' 'l')\n",
    "print(new_name)"
   ]
  },
  {
   "cell_type": "markdown",
   "metadata": {},
   "source": [
    "##### .title()"
   ]
  },
  {
   "cell_type": "code",
   "execution_count": 9,
   "metadata": {},
   "outputs": [
    {
     "name": "stdout",
     "output_type": "stream",
     "text": [
      "Sharknado 3: Feeding Frenzy\n"
     ]
    }
   ],
   "source": [
    "# string.title()\n",
    "movie = 'sharknado 3: feeding frenzy'\n",
    "print(movie.title())"
   ]
  },
  {
   "cell_type": "markdown",
   "metadata": {},
   "source": [
    "### String Exercise <br>\n",
    "<p>Strip all white space and capitalize every name in the list given</p>"
   ]
  },
  {
   "cell_type": "code",
   "execution_count": 21,
   "metadata": {},
   "outputs": [
    {
     "name": "stdout",
     "output_type": "stream",
     "text": [
      "Connor\n",
      "Max\n",
      "Evan\n",
      "Jordan\n"
     ]
    }
   ],
   "source": [
    "names = ['    coNNor', 'max', ' EVan ', 'JORDAN']\n",
    "# HINT: You will need to use a for loop for iteration\n",
    "for user in names:\n",
    "# I did not google the answer I know '.lower()' from pre-python unit\n",
    "    user.lower()\n",
    "    UN = user.title()\n",
    "    print(UN.strip())\n",
    "\n"
   ]
  },
  {
   "cell_type": "markdown",
   "metadata": {},
   "source": [
    "### Working With Lists"
   ]
  },
  {
   "cell_type": "markdown",
   "metadata": {},
   "source": [
    "##### min()"
   ]
  },
  {
   "cell_type": "code",
   "execution_count": 22,
   "metadata": {},
   "outputs": [
    {
     "name": "stdout",
     "output_type": "stream",
     "text": [
      "1\n"
     ]
    }
   ],
   "source": [
    "# min(list)\n",
    "nums = [1 , 2 , 7 , 31 , 4]\n",
    "print(min(nums))"
   ]
  },
  {
   "cell_type": "markdown",
   "metadata": {},
   "source": [
    "##### max()"
   ]
  },
  {
   "cell_type": "code",
   "execution_count": 23,
   "metadata": {},
   "outputs": [
    {
     "name": "stdout",
     "output_type": "stream",
     "text": [
      "31\n"
     ]
    }
   ],
   "source": [
    "# max(list)\n",
    "print(max(nums))\n"
   ]
  },
  {
   "cell_type": "markdown",
   "metadata": {},
   "source": [
    "##### sum()"
   ]
  },
  {
   "cell_type": "code",
   "execution_count": 24,
   "metadata": {},
   "outputs": [
    {
     "name": "stdout",
     "output_type": "stream",
     "text": [
      "45\n"
     ]
    }
   ],
   "source": [
    "# sum(list)\n",
    "print(sum(nums))\n"
   ]
  },
  {
   "cell_type": "markdown",
   "metadata": {},
   "source": [
    "##### sorted()"
   ]
  },
  {
   "cell_type": "code",
   "execution_count": 26,
   "metadata": {},
   "outputs": [
    {
     "name": "stdout",
     "output_type": "stream",
     "text": [
      "[1, 2, 7, 31, 4]\n",
      "[1, 2, 4, 7, 31]\n"
     ]
    }
   ],
   "source": [
    "# sorted(list)\n",
    "print(nums)\n",
    "\n",
    "#there is this way\n",
    "# sorted_nums = sorted(nums)\n",
    "# print(sorted_nums)\n",
    "# there's also this way\n",
    "\n",
    "print(sorted(nums))\n"
   ]
  },
  {
   "cell_type": "markdown",
   "metadata": {},
   "source": [
    "##### .sort() <br>\n",
    "<p>Difference between sort and sorted, is that sorted doesn't change original list it returns a copy, while .sort changes the original list</p>"
   ]
  },
  {
   "cell_type": "code",
   "execution_count": 27,
   "metadata": {},
   "outputs": [
    {
     "name": "stdout",
     "output_type": "stream",
     "text": [
      "[1, 2, 4, 7, 31]\n"
     ]
    }
   ],
   "source": [
    "# list.sort()\n",
    "nums.sort()\n",
    "print(nums)\n",
    "\n",
    "# use sorted when you don't want to alter original list, use .sort() when you want to alter original list"
   ]
  },
  {
   "cell_type": "markdown",
   "metadata": {},
   "source": [
    "##### Copying a List"
   ]
  },
  {
   "cell_type": "code",
   "execution_count": 28,
   "metadata": {},
   "outputs": [
    {
     "name": "stdout",
     "output_type": "stream",
     "text": [
      "[1, 2, 4, 7, 31]\n"
     ]
    }
   ],
   "source": [
    "# [:] copies a list, doesn't alter original\n",
    "list_1 = nums[:]\n",
    "print(list_1)"
   ]
  },
  {
   "cell_type": "markdown",
   "metadata": {},
   "source": [
    "##### 'in' keyword"
   ]
  },
  {
   "cell_type": "code",
   "execution_count": 30,
   "metadata": {},
   "outputs": [
    {
     "name": "stdout",
     "output_type": "stream",
     "text": [
      "Not Found\n",
      "Not Found\n",
      "Found\n",
      "Found\n",
      "Not Found\n",
      "Not Found\n"
     ]
    }
   ],
   "source": [
    "w_teachers = ['rau' , 'reseigh' , 'Donovan' , 'holiday' , 'frank' , 'hansen'] \n",
    "\n",
    "# if 'Donovan' in w_teachers:\n",
    "#     print('Coding Temple Instructor')\n",
    "# else:\n",
    "#     print('Highschool teacher')\n",
    "# # Im still in highschool unfortunately\n",
    "\n",
    "for name in w_teachers:\n",
    "    if 'o' in name:\n",
    "        print(\"Found\")\n",
    "    else:\n",
    "        print('Not Found')"
   ]
  },
  {
   "cell_type": "markdown",
   "metadata": {},
   "source": [
    "##### 'not in' keyword"
   ]
  },
  {
   "cell_type": "code",
   "execution_count": null,
   "metadata": {},
   "outputs": [],
   "source": [
    "if 'Zack' not in w_teachers:\n",
    "    print('Not a CT instructor')"
   ]
  },
  {
   "cell_type": "markdown",
   "metadata": {},
   "source": [
    "##### Checking an Empty List"
   ]
  },
  {
   "cell_type": "code",
   "execution_count": 31,
   "metadata": {},
   "outputs": [
    {
     "name": "stdout",
     "output_type": "stream",
     "text": [
      "Dwayne the Rock Johnson\n"
     ]
    }
   ],
   "source": [
    "# if l_1: or if l_1 = []\n",
    "list_2 = []\n",
    "if list_2 == []:\n",
    "    print('Dwayne the Rock Johnson')\n"
   ]
  },
  {
   "cell_type": "markdown",
   "metadata": {},
   "source": [
    "##### Removing Instances with a Loop"
   ]
  },
  {
   "cell_type": "code",
   "execution_count": 32,
   "metadata": {},
   "outputs": [
    {
     "name": "stdout",
     "output_type": "stream",
     "text": [
      "['fox', 'lion', 'wolf']\n"
     ]
    }
   ],
   "source": [
    "# while, remove\n",
    "namez = ['fox' , 'owl' , 'lion' , 'owl' , 'wolf', 'owl']\n",
    "while 'owl' in namez:\n",
    "    namez.remove('owl')\n",
    "print(namez)\n"
   ]
  },
  {
   "cell_type": "markdown",
   "metadata": {},
   "source": [
    "### List Exercise <br>\n",
    "<p>Remove all duplicates<br><b>Extra: Create a program that will remove any duplicates from a given list</b></p>"
   ]
  },
  {
   "cell_type": "code",
   "execution_count": 47,
   "metadata": {},
   "outputs": [
    {
     "name": "stdout",
     "output_type": "stream",
     "text": [
      "['connor', 'bob', 'evan', 'max', 2, 3, 4, 'kevin']\n"
     ]
    }
   ],
   "source": [
    "names = ['connor', 'connor', 'bob', 'connor', 'evan', 'max', 'evan', 2, 2, 2, 3, 3, 4, 'bob', 'kevin']\n",
    "# Hint 1: You will need an append\n",
    "# Hint 2: Using an empty list will make life easier\n",
    "# num = 0\n",
    "EmpT = []\n",
    "for non_dup in names:\n",
    "    if non_dup not in EmpT:\n",
    "        EmpT.append(non_dup)\n",
    "print(EmpT)\n",
    "\n",
    "\n"
   ]
  },
  {
   "cell_type": "markdown",
   "metadata": {},
   "source": [
    "### List Comprehensions <br>\n",
    "<p>Creating a quickly generated list to work with<br>*result*  = [*transform*    *iteration*         *filter*     ]</p>"
   ]
  },
  {
   "cell_type": "markdown",
   "metadata": {},
   "source": [
    "##### In a list comprehension we have a few pieces:\n",
    "1. The first is the counter/ variable - IN this the variable is x\n",
    "2. then we have a transform for the variable\n",
    "3. The finale part of a list comp is called the condition\n",
    "\n",
    "```python\n",
    "    [variable, transform, condition]\n",
    "```"
   ]
  },
  {
   "cell_type": "code",
   "execution_count": 55,
   "metadata": {},
   "outputs": [
    {
     "name": "stdout",
     "output_type": "stream",
     "text": [
      "[0, 2, 4, 6, 8, 10, 12, 14, 16, 18, 20, 22, 24, 26, 28, 30, 32, 34, 36, 38, 40, 42, 44, 46, 48, 50, 52, 54, 56, 58, 60, 62, 64, 66, 68, 70, 72, 74, 76, 78, 80, 82, 84, 86, 88, 90, 92, 94, 96, 98]\n",
      "\n",
      "\n",
      "[0, 4, 16, 36, 64, 100, 144, 196, 256, 324, 400, 484, 576, 676, 784, 900, 1024, 1156, 1296, 1444, 1600, 1764, 1936, 2116, 2304, 2500, 2704, 2916, 3136, 3364, 3600, 3844, 4096, 4356, 4624, 4900, 5184, 5476, 5776, 6084, 6400, 6724, 7056, 7396, 7744, 8100, 8464, 8836, 9216, 9604]\n"
     ]
    }
   ],
   "source": [
    "# number comprehension\n",
    "\n",
    "# With a regular for loop\n",
    "nums = []\n",
    "for i in range (100):\n",
    "    if i % 2 == 0:\n",
    "        nums.append(i**2)\n",
    "print(nums)\n",
    "\n",
    "#[transform, variable, condition]\n",
    "print('\\n')\n",
    "nums_comp = [i**2 for i in range (100) if i % 2 == 0]\n",
    "print(nums_comp)\n",
    "    \n",
    "\n",
    "\n",
    "\n"
   ]
  },
  {
   "cell_type": "markdown",
   "metadata": {},
   "source": [
    "There are a few benefits to using List comprehensions. The most obvious would be that we now have shorter code to work with instead of using 3+ lines of code in the for loop variant.\n",
    "\n",
    "Another is an added benefit to memory usage. Since the list's memory is allocated first before adding elements to it, we don't have to resize the list once we add elements to it.\n",
    "\n",
    "Lastly, list comprehensions are considered the \"pythonic\" way to write code by the PEP8 standards (Python Style Guide)"
   ]
  },
  {
   "cell_type": "code",
   "execution_count": 58,
   "metadata": {},
   "outputs": [
    {
     "name": "stdout",
     "output_type": "stream",
     "text": [
      "[0, 1, 4, 9, 16, 25, 36, 49, 64, 81]\n",
      "\n",
      "\n",
      "[0, 1, 4, 9, 16, 25, 36, 49, 64, 81]\n"
     ]
    }
   ],
   "source": [
    "# square number comprehension\n",
    "\n",
    "squares = [x**2 for x in range(10)]\n",
    "print(squares)\n",
    "\n",
    "print('\\n')\n",
    "\n",
    "squares_red = []\n",
    "for x in range(10):\n",
    "    squares_red.append(x**2)\n",
    "print(squares_red)"
   ]
  },
  {
   "cell_type": "code",
   "execution_count": 62,
   "metadata": {},
   "outputs": [
    {
     "name": "stdout",
     "output_type": "stream",
     "text": [
      "['c', 'm', 'e', 'r']\n",
      "['c', 'm', 'e', 'r']\n"
     ]
    }
   ],
   "source": [
    "# string comprehension\n",
    "\n",
    "names = ['connor' , 'max' , 'evan' , 'rob']\n",
    "\n",
    "first_char_comp = [name[0] for name in names]\n",
    "print(first_char_comp)\n",
    "\n",
    "first_char = []\n",
    "for name in names:\n",
    "    first_char.append(name[0])\n",
    "print(first_char)\n",
    "\n"
   ]
  },
  {
   "cell_type": "code",
   "execution_count": 64,
   "metadata": {},
   "outputs": [
    {
     "name": "stdout",
     "output_type": "stream",
     "text": [
      "['connor']\n"
     ]
    }
   ],
   "source": [
    "c_names = [first_name for first_name in names if first_name[0] == 'c']\n",
    "print(c_names)\n",
    "\n",
    "reg_c = []\n",
    "for first_name in names:\n",
    "    if first_name[0] == 'c':\n",
    "        reg_c.append(first_name)\n",
    "print(reg_c)"
   ]
  },
  {
   "cell_type": "code",
   "execution_count": 66,
   "metadata": {},
   "outputs": [
    {
     "name": "stdout",
     "output_type": "stream",
     "text": [
      "['connor']\n"
     ]
    }
   ],
   "source": []
  },
  {
   "cell_type": "markdown",
   "metadata": {},
   "source": [
    "### Tuples <br>\n",
    "<p><b>Defined as an immutable list</b></p><br>Seperated by commas using parenthesis"
   ]
  },
  {
   "cell_type": "code",
   "execution_count": 73,
   "metadata": {},
   "outputs": [
    {
     "name": "stdout",
     "output_type": "stream",
     "text": [
      "<class 'tuple'>\n",
      "<class 'tuple'>\n",
      "1\n",
      "3\n",
      "1\n",
      "2\n",
      "3\n",
      "\n",
      "\n",
      "1\n",
      "2\n",
      "3\n"
     ]
    }
   ],
   "source": [
    "tup_1 = 1 , 2 , 3\n",
    "tup_2 = (1,2,3)\n",
    "print(type(tup_1))\n",
    "print(type(tup_2))\n",
    "\n",
    "print(tup_1[0])\n",
    "print(len(tup_1))\n",
    "\n",
    "# looping over tuples\n",
    "for number in tup_1:\n",
    "    print(number)\n",
    "    \n",
    "print('\\n')\n",
    "    \n",
    "# looping tup with range and index with length\n",
    "for number in range(len(tup_1)):\n",
    "    print(tup_1[number])"
   ]
  },
  {
   "cell_type": "markdown",
   "metadata": {},
   "source": [
    "##### sorted()"
   ]
  },
  {
   "cell_type": "code",
   "execution_count": 78,
   "metadata": {},
   "outputs": [
    {
     "name": "stdout",
     "output_type": "stream",
     "text": [
      "[1, 3, 4, 5, 5, 9, 20]\n",
      "(1, 3, 3, 4, 4, 5, 5, 9, 20, 33, 66, 77)\n",
      "<class 'tuple'>\n",
      "<class 'list'>\n"
     ]
    }
   ],
   "source": [
    "tup_3 = (20 , 5 ,1 ,3 ,9 ,4 ,5)\n",
    "sorted_tup = sorted(tup_3)\n",
    "print(sorted_tup)\n",
    "\n",
    "random = [3 , 4 ,66, 77 , 33]\n",
    "combined = sorted(tup_3 + random)\n",
    "new_tup = tuple(combined)\n",
    "print(new_tup)\n",
    "print(type(new_tup))\n",
    "print(type(sorted_tup))"
   ]
  },
  {
   "cell_type": "markdown",
   "metadata": {},
   "source": [
    "##### Adding values to a Tuple"
   ]
  },
  {
   "cell_type": "code",
   "execution_count": 79,
   "metadata": {},
   "outputs": [
    {
     "name": "stdout",
     "output_type": "stream",
     "text": [
      "(1, 2, 3)\n",
      "(1, 2, 3, 500)\n"
     ]
    }
   ],
   "source": [
    "print(tup_1)\n",
    "tup_1 = tup_1 + (500,)\n",
    "print(tup_1)"
   ]
  },
  {
   "cell_type": "markdown",
   "metadata": {},
   "source": [
    "## Functions"
   ]
  },
  {
   "cell_type": "markdown",
   "metadata": {},
   "source": [
    "##### User-Defined vs. Built-In Functions"
   ]
  },
  {
   "cell_type": "code",
   "execution_count": 83,
   "metadata": {},
   "outputs": [
    {
     "name": "stdout",
     "output_type": "stream",
     "text": [
      "Hello, World\n"
     ]
    }
   ],
   "source": [
    "# user defined\n",
    "def sayHello():\n",
    "    \"\"\" Say Hello \"\"\"\n",
    "    return(\"Hello, World\")\n",
    "# sayHello()\n",
    "# or\n",
    "print(sayHello())"
   ]
  },
  {
   "cell_type": "markdown",
   "metadata": {},
   "source": [
    "##### Accepting Parameters"
   ]
  },
  {
   "cell_type": "code",
   "execution_count": 87,
   "metadata": {},
   "outputs": [
    {
     "name": "stdout",
     "output_type": "stream",
     "text": [
      "What is your FIRST name?James\n",
      "What is your LAST name?Bond\n",
      "Hello, Mini Me\n",
      "Hello, Austin Powers\n",
      "Hello, James Bond\n"
     ]
    }
   ],
   "source": [
    "# Arguements vs Parameters\n",
    "# order matters; variable can be any type of object (list, int, str, etc.)\n",
    "\n",
    "def MyChild(first_n , last_n):\n",
    "    \"\"\"Print Full name\"\"\"\n",
    "    return(f\"Hello, {first_n} {last_n}\")\n",
    "\n",
    "first_input = input('What is your FIRST name?')\n",
    "last_input = input('What is your LAST name?')\n",
    "nam = 'Austin'\n",
    "print(MyChild('Mini' , 'Me'))\n",
    "print(MyChild( nam , 'Powers'))\n",
    "print(MyChild(first_input, last_input))"
   ]
  },
  {
   "cell_type": "markdown",
   "metadata": {},
   "source": [
    "##### Default Parameters"
   ]
  },
  {
   "cell_type": "code",
   "execution_count": 94,
   "metadata": {},
   "outputs": [
    {
     "name": "stdout",
     "output_type": "stream",
     "text": [
      "I am not your fairy @#!$ God mother! I AM Gordon Ramsay, you DONUT!\n",
      "I am not your fairy @#!$ God mother! I AM Guy Fieri, you DONUT!\n"
     ]
    }
   ],
   "source": [
    "# Default parameters must be declared AFTER non-default parameters\n",
    "def ChefName(first_n = 'Gordon' , last_n = 'Ramsay'):\n",
    "    return f\"I am not your fairy @#!$ God mother! I AM {first_n} {last_n}, you DONUT!\"\n",
    "print(ChefName())\n",
    "print(ChefName('Guy' , 'Fieri'))\n",
    "\n",
    "# DONT do this\n",
    "# def ChefName(first_n = 'Gordon' , last_n):\n",
    "# MUST come AFTER define"
   ]
  },
  {
   "cell_type": "markdown",
   "metadata": {},
   "source": [
    "##### Making an Argument Optional"
   ]
  },
  {
   "cell_type": "code",
   "execution_count": 97,
   "metadata": {},
   "outputs": [
    {
     "name": "stdout",
     "output_type": "stream",
     "text": [
      "Hello Ted  ed!\n"
     ]
    }
   ],
   "source": [
    "def nameCalling(first, mid= '', last= 'ed'):\n",
    "    return f\"Hello {first} {mid} {last}!\"\n",
    "print(nameCalling('Ted'))"
   ]
  },
  {
   "cell_type": "markdown",
   "metadata": {},
   "source": [
    "##### Keyword Arguments"
   ]
  },
  {
   "cell_type": "code",
   "execution_count": 102,
   "metadata": {},
   "outputs": [
    {
     "name": "stdout",
     "output_type": "stream",
     "text": [
      "The Librarian is such a strong hero! The Librarian's power is saying the alphabet backwards!\n",
      "Batman is such a strong hero! Batman's power is justice!\n",
      "Jamie is such a strong hero! Jamie's power is parabolas!\n"
     ]
    }
   ],
   "source": [
    "def protagonist(name , power = 'saying the alphabet backwards'):\n",
    "    return f\"{name} is such a strong hero! {name}'s power is {power}!\"\n",
    "print(protagonist('The Librarian'))\n",
    "print(protagonist(\"Batman\" , \"justice\"))\n",
    "print(protagonist(power = 'parabolas' , name = 'Jamie'))"
   ]
  },
  {
   "cell_type": "markdown",
   "metadata": {},
   "source": [
    "# Creating a start, stop, step function"
   ]
  },
  {
   "cell_type": "code",
   "execution_count": 107,
   "metadata": {},
   "outputs": [
    {
     "name": "stdout",
     "output_type": "stream",
     "text": [
      "0\n",
      "2\n",
      "4\n",
      "6\n"
     ]
    }
   ],
   "source": [
    "def MeineRange(stop, start=0 , step=1):\n",
    "    for i in range(start,stop,step):\n",
    "        print(i)\n",
    "MeineRange(7,0,2)"
   ]
  },
  {
   "cell_type": "markdown",
   "metadata": {},
   "source": [
    "##### Returning Values"
   ]
  },
  {
   "cell_type": "code",
   "execution_count": 110,
   "metadata": {},
   "outputs": [
    {
     "name": "stdout",
     "output_type": "stream",
     "text": [
      "6\n"
     ]
    }
   ],
   "source": [
    "def addNums(numOne , numTwo):\n",
    "    return numOne + numTwo\n",
    "\n",
    "print(addNums(3 , 3))"
   ]
  },
  {
   "cell_type": "markdown",
   "metadata": {},
   "source": [
    "##### *args"
   ]
  },
  {
   "cell_type": "code",
   "execution_count": 114,
   "metadata": {},
   "outputs": [
    {
     "name": "stdout",
     "output_type": "stream",
     "text": [
      "36\n",
      "('Dragon Slayer', 'lime', 2, 3)\n",
      "{'testing': 'Akunmaru'}\n",
      "Dragon Slayer\n",
      "lime\n",
      "2\n",
      "3\n",
      "testing\n"
     ]
    }
   ],
   "source": [
    "# arg stands for arguements, takes ANY number of arguements as parameters\n",
    "# must be last if multiple parameters present\n",
    "def printARGS(numOne, *args, **kwargs):\n",
    "    print(numOne)\n",
    "    print(args)\n",
    "    print(kwargs)\n",
    "    \n",
    "    for arg in args:\n",
    "        print(arg)\n",
    "    \n",
    "    for kwarg in kwargs:\n",
    "        print(kwarg)\n",
    "printARGS(36, 'Dragon Slayer' , 'lime' , 2 , 3 , testing = 'Akunmaru')"
   ]
  },
  {
   "cell_type": "markdown",
   "metadata": {},
   "source": [
    "##### Docstring"
   ]
  },
  {
   "cell_type": "code",
   "execution_count": 115,
   "metadata": {},
   "outputs": [
    {
     "name": "stdout",
     "output_type": "stream",
     "text": [
      "George\n",
      "Ramon\n",
      "Peter\n",
      "Help on function printNames in module __main__:\n",
      "\n",
      "printNames(list_1)\n",
      "    print(list_1)\n",
      "    function requires list to be passed as parameter\n",
      "    will print contents of list. expecting \n",
      "    names(string) to be passed.\n",
      "\n"
     ]
    }
   ],
   "source": [
    "def printNames(list_1):\n",
    "    \"\"\"\n",
    "    print(list_1)\n",
    "    function requires list to be passed as parameter\n",
    "    will print contents of list. expecting \n",
    "    names(string) to be passed.\n",
    "    \"\"\"\n",
    "    for name in list_1:\n",
    "        print(name)\n",
    "        \n",
    "printNames(['George' , 'Ramon' , 'Peter'])\n",
    "\n",
    "help(printNames)"
   ]
  },
  {
   "cell_type": "markdown",
   "metadata": {},
   "source": [
    "##### Using a User Function in a Loop"
   ]
  },
  {
   "cell_type": "code",
   "execution_count": 122,
   "metadata": {},
   "outputs": [
    {
     "name": "stdout",
     "output_type": "stream",
     "text": [
      "You gonna quit????\n",
      "no\n",
      "Whatcha wanna talk about?\n",
      "nothin\n",
      "nothin\n",
      "You ready yet..?\n",
      "no\n",
      "Whatcha wanna talk about?\n",
      "no\n",
      "no\n",
      "You ready yet..?\n",
      "quit\n"
     ]
    }
   ],
   "source": [
    "def InputPrint(answer):\n",
    "    print(answer)\n",
    "    \n",
    "response = input('You gonna quit????\\n')\n",
    "\n",
    "while True:\n",
    "    ask = input('Whatcha wanna talk about?')\n",
    "    InputPrint(ask)\n",
    "        \n",
    "        \n",
    "    response = input('You ready yet..?\\n')\n",
    "    if response.lower() == 'quit':\n",
    "            break"
   ]
  },
  {
   "cell_type": "markdown",
   "metadata": {},
   "source": [
    "## Function Exercise <br>\n",
    "<p>Write a function that loops through a list of first_names and a list of last_names, combines the two and return a list of full_names</p>"
   ]
  },
  {
   "cell_type": "code",
   "execution_count": 4,
   "metadata": {},
   "outputs": [
    {
     "name": "stdout",
     "output_type": "stream",
     "text": [
      "['John Smith', 'Evan Smith', 'Jordan Williams', 'Max Bell']\n"
     ]
    }
   ],
   "source": [
    "first_name = ['John', 'Evan', 'Jordan', 'Max']\n",
    "last_name = ['Smith', 'Smith', 'Williams', 'Bell']\n",
    "# Output: ['John Smith', 'Evan Smith', 'Jordan Williams', 'Max Bell']\n",
    "# FAILED ATTEMPT 1\n",
    "# def full(f,l):\n",
    "#     for first in first_name:\n",
    "#         for last in last_name:\n",
    "#             full_name.append(first,last)\n",
    "# print(full(first,last))\n",
    "\n",
    "# FAILED ATTEMPT 2\n",
    "# Def name_printer():\n",
    "#     while len(first_name) and len(last_name) != 0:\n",
    "#         for f in first_name:\n",
    "#             full_name.append(f)\n",
    "#         for l in last_name:\n",
    "#             full_name.append(l)\n",
    "#  print(name_printer())\n",
    "\n",
    "# FAILED ATTEMPT 3\n",
    "#     while len(first_name) and len(last_name) != 0:\n",
    "#         for f in first_name:\n",
    "#             full_name.append(f)\n",
    "#             for l in last_name:\n",
    "#                 full_name.append(l)\n",
    "#             print(full_name)\n",
    "\n",
    "#FAILED ATTEMPT 4\n",
    "# for len(last_name) == len(first):\n",
    "#         for X in range(0,len(first_name):\n",
    "#                        full_name.append((fir(x), las(X))):\n",
    "#     return full_name\n",
    "# please_work = full(first_name,last_name)\n",
    "# print(please_work)\n",
    "\n",
    "#FAILED ATTEMPT 5\n",
    "# def ImDesperate(fir,las):\n",
    "#     if len(last_name) == len(first):\n",
    "#         full_name = []\n",
    "#         for X in range(0,len(first_name)):\n",
    "#             full_name.append((fir(x), las(X))):\n",
    "#     return full_name\n",
    "# please_work = full(first_name,last_name)\n",
    "# print(please_work)\n",
    "# ImDesperate(please_work)\n",
    "\n",
    "\n",
    "# 2 hours later...\n",
    "def PleaseWorkImDesperate(fir,las):\n",
    "    full_name = []\n",
    "    if len(las) == len(fir):\n",
    "        for PLEASE in range(0,len(fir)):\n",
    "            full_name.append(\"{} {}\".format(fir[PLEASE], las[PLEASE]))\n",
    "    return full_name\n",
    "full_name = PleaseWorkImDesperate(first_name,last_name)\n",
    "print(\"{}\".format(full_name))"
   ]
  },
  {
   "cell_type": "markdown",
   "metadata": {},
   "source": [
    "## Scope <br>\n",
    "<p>Scope refers to the ability to access variables, different types of scope include:<br>a) Global<br>b) Function (local)<br>c) Class (local)</p>"
   ]
  },
  {
   "cell_type": "markdown",
   "metadata": {},
   "source": []
  },
  {
   "cell_type": "code",
   "execution_count": 10,
   "metadata": {},
   "outputs": [
    {
     "name": "stdout",
     "output_type": "stream",
     "text": [
      "4\n",
      "16\n"
     ]
    }
   ],
   "source": [
    "number = 7\n",
    "# global variable accessible anywhere in code\n",
    "def NumFunc():\n",
    "    number = 6\n",
    "    number +=10\n",
    "#     local function variable\n",
    "    return number\n",
    "\n",
    "print(number-3)\n",
    "print(NumFunc())"
   ]
  },
  {
   "cell_type": "markdown",
   "metadata": {},
   "source": [
    "# Exercises"
   ]
  },
  {
   "cell_type": "markdown",
   "metadata": {},
   "source": [
    "## Exercise 1 <br>\n",
    "<p>Given a list as a parameter,write a function that returns a list of numbers that are less than ten</b></i></p><br>\n",
    "<p> For example: Say your input parameter to the function is [1,11,14,5,8,9]...Your output should [1,5,8,9]</p>"
   ]
  },
  {
   "cell_type": "code",
   "execution_count": 39,
   "metadata": {},
   "outputs": [
    {
     "name": "stdout",
     "output_type": "stream",
     "text": [
      "[1, 5, 8, 9]\n"
     ]
    }
   ],
   "source": [
    "# Use the following list - [1,11,14,5,8,9]\n",
    "\n",
    "num_list = [1,11,14,5,8,9]\n",
    "# ATTEMPT 1\n",
    "# def LessTen():\n",
    "#     for num in str(1_1):\n",
    "#         if int(num) > 10:\n",
    "#             del(num)\n",
    "#     print(1_1)\n",
    "# LessTen()\n",
    "\n",
    "# ATTEMPT 2\n",
    "# def LessTen():\n",
    "#     New_list = []\n",
    "#     for num in num_list:\n",
    "#         if num < 10:\n",
    "#             New_list.append(num)\n",
    "#         print(New_list)\n",
    "# print(LessTen())\n",
    "\n",
    "# ATTEMPT 3\n",
    "# def LessTen():\n",
    "#     New_list = []\n",
    "#     while True:\n",
    "#         for num in num_list:\n",
    "#             if num < 10:\n",
    "#                 New_list.append(num)\n",
    "#             return(New_list)\n",
    "#         if False:\n",
    "#             break\n",
    "# print(LessTen())\n",
    "\n",
    "def LessTen(num_list):\n",
    "    return[num for num in num_list if num < 10]\n",
    "print(LessTen(num_list))"
   ]
  },
  {
   "cell_type": "markdown",
   "metadata": {},
   "source": [
    "## Exercise 2 <br>\n",
    "<p>Write a function that takes in two lists and returns the two lists merged together and sorted<br>\n",
    "<b><i>Hint: You can use the .sort() method</i></b></p>"
   ]
  },
  {
   "cell_type": "code",
   "execution_count": 56,
   "metadata": {},
   "outputs": [
    {
     "name": "stdout",
     "output_type": "stream",
     "text": [
      "[1, 2, 3, 3, 4, 4, 5, 5, 6, 6, 7, 8, 10]\n"
     ]
    }
   ],
   "source": [
    "LOne = [1,2,3,4,5,6]\n",
    "LTwo = [3,4,5,6,7,8,10]\n",
    "# ATTEMPT 1\n",
    "# def ListSort(LOne , LTwo):\n",
    "#     for CarlWheezer in LTwo:\n",
    "#         LOne.append(CarlWheezer)\n",
    "#     LOne.sort()\n",
    "#     print(LOne)\n",
    "# print(ListSort(LOne , LTwo))\n",
    "\n",
    "def ListSort(LOne , LTwo):\n",
    "    for CarlWheezer in LTwo:\n",
    "        LOne.append(CarlWheezer)\n",
    "        LOne.sort()\n",
    "    return(LOne)\n",
    "print(ListSort(LOne , LTwo))"
   ]
  },
  {
   "cell_type": "code",
   "execution_count": null,
   "metadata": {},
   "outputs": [],
   "source": []
  }
 ],
 "metadata": {
  "kernelspec": {
   "display_name": "Python 3 (ipykernel)",
   "language": "python",
   "name": "python3"
  },
  "language_info": {
   "codemirror_mode": {
    "name": "ipython",
    "version": 3
   },
   "file_extension": ".py",
   "mimetype": "text/x-python",
   "name": "python",
   "nbconvert_exporter": "python",
   "pygments_lexer": "ipython3",
   "version": "3.9.13"
  }
 },
 "nbformat": 4,
 "nbformat_minor": 2
}
